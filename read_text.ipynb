{
 "cells": [
  {
   "cell_type": "code",
   "execution_count": 54,
   "metadata": {},
   "outputs": [],
   "source": [
    "with open('file.txt') as f:\n",
    "    contents = f.readlines()"
   ]
  },
  {
   "cell_type": "code",
   "execution_count": 55,
   "metadata": {},
   "outputs": [],
   "source": [
    "contents = [i.strip() for i in contents]\n",
    "contents[:] = [x for x in contents if x]"
   ]
  },
  {
   "cell_type": "code",
   "execution_count": 56,
   "metadata": {},
   "outputs": [
    {
     "name": "stdout",
     "output_type": "stream",
     "text": [
      "['Artigos', 'â€”â€”â€”â€”', 'MERCEARIA + PET FOOD', 'E 23% CER REC CHOC PD 500G', '1, 99', 'Poupanea Imediata', '(0, 20)', 'C Bh', 'AZ.N. PLANIC. VE 0, 75L', '2,99', 'Poupanca |mediata', '(0, 10)', 'E 23%', 'BS MFRUTOS PD 906', '0, 69', 'E23', 'BOL PET MILK PD 150', '1, 09', 'E 23%', 'PASTA POT BOLON. 68GR', '1, 79', 'Poupanca Imediata', '(0, 45)', 'Cc: 6%', 'M. KOKA INST. CAMAR85G', '0, 79', 'CONGE LADOS', 'E 23% RISSOL PD CARNE8X42G', '2, 09', 'C 6% ALM TOMA S/GL PD420G', '3, 19', 'E 23% ARROZ PATO PD 300G', '2, 99', 'LEI TE', 'C 6% L MIMOSA OZLAC MAGIL', '1, 29', 'C64', 'L UHT MG AGROS 1 LT', '2 X 0,69', '1, 38', 'Poupanea linediata', '(0, 26)', 'PRODUTOS LACTEOS', '0, 99', 'E 23% GEL PD MORANG 4X100G', 'BEBIDAS', 'D 13% AGUA PINGO DOCE 6LT', '0, 75', 'Resumo', '22, 92', 'TOTAL', 'TOTAL POUPANGA', '(1, 01)', 'TOTAL A PAGAR', '21,601', 'Pagamentos', 'TOTAL PAGO', '21,51', 'Mul ti banco', 'D...', 'wel oe', 'TVA', '21,51']\n"
     ]
    }
   ],
   "source": [
    "print(contents)"
   ]
  },
  {
   "cell_type": "code",
   "execution_count": 57,
   "metadata": {},
   "outputs": [],
   "source": [
    "sections = ['CONGE', 'MERCEARIA', 'LACTEOS', 'BEBIDAS']"
   ]
  },
  {
   "cell_type": "code",
   "execution_count": 58,
   "metadata": {},
   "outputs": [
    {
     "name": "stdout",
     "output_type": "stream",
     "text": [
      "True\n"
     ]
    }
   ],
   "source": [
    "print(any(ele in 'MERCEARIA + PET FOOD' for ele in sections))"
   ]
  },
  {
   "cell_type": "code",
   "execution_count": 61,
   "metadata": {},
   "outputs": [
    {
     "name": "stdout",
     "output_type": "stream",
     "text": [
      "MERCEARIA + PET FOOD\n",
      "CONGE LADOS\n",
      "PRODUTOS LACTEOS\n",
      "BEBIDAS\n"
     ]
    }
   ],
   "source": [
    "mercearia = []\n",
    "\n",
    "for value in contents:\n",
    "    if any(ele in value for ele in sections): \n",
    "        print(value)\n",
    "\n",
    "        while any(ele in value for ele in sections): \n",
    "            mercearia.append(value)\n",
    "\n",
    "        "
   ]
  },
  {
   "cell_type": "code",
   "execution_count": null,
   "metadata": {},
   "outputs": [],
   "source": []
  }
 ],
 "metadata": {
  "interpreter": {
   "hash": "7c5bc60f1b709cc28d984b044e46a36e86d71fb0a6f2e3589923fa1d0135e80a"
  },
  "kernelspec": {
   "display_name": "Python 3.8.12 ('ML')",
   "language": "python",
   "name": "python3"
  },
  "language_info": {
   "codemirror_mode": {
    "name": "ipython",
    "version": 3
   },
   "file_extension": ".py",
   "mimetype": "text/x-python",
   "name": "python",
   "nbconvert_exporter": "python",
   "pygments_lexer": "ipython3",
   "version": "3.8.12"
  },
  "orig_nbformat": 4
 },
 "nbformat": 4,
 "nbformat_minor": 2
}
