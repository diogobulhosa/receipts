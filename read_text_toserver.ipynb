{
 "cells": [
  {
   "cell_type": "code",
   "execution_count": 17,
   "metadata": {},
   "outputs": [],
   "source": [
    "import pandas as pd\n",
    "import numpy as np"
   ]
  },
  {
   "cell_type": "code",
   "execution_count": 18,
   "metadata": {},
   "outputs": [],
   "source": [
    "with open('file.txt') as f:\n",
    "    contents = f.readlines()"
   ]
  },
  {
   "cell_type": "code",
   "execution_count": 19,
   "metadata": {},
   "outputs": [],
   "source": [
    "contents = [i.strip() for i in contents]\n",
    "contents[:] = [x for x in contents if x]"
   ]
  },
  {
   "cell_type": "code",
   "execution_count": 20,
   "metadata": {},
   "outputs": [
    {
     "name": "stdout",
     "output_type": "stream",
     "text": [
      "['Artigos', '————', 'MERCEARIA + PET FOOD', 'E 23% CER REC CHOC PD 500G', '1, 99', 'Poupanea Imediata', '(0, 20)', 'C Bh', 'AZ.N. PLANIC. VE 0, 75L', '2,99', 'Poupanca |mediata', '(0, 10)', 'E 23%', 'BS MFRUTOS PD 906', '0, 69', 'E23', 'BOL PET MILK PD 150', '1, 09', 'E 23%', 'PASTA POT BOLON. 68GR', '1, 79', 'Poupanca Imediata', '(0, 45)', 'Cc: 6%', 'M. KOKA INST. CAMAR85G', '0, 79', 'CONGE LADOS', 'E 23% RISSOL PD CARNE8X42G', '2, 09', 'C 6% ALM TOMA S/GL PD420G', '3, 19', 'E 23% ARROZ PATO PD 300G', '2, 99', 'LEI TE', 'C 6% L MIMOSA OZLAC MAGIL', '1, 29', 'C64', 'L UHT MG AGROS 1 LT', '2 X 0,69', '1, 38', 'Poupanea linediata', '(0, 26)', 'PRODUTOS LACTEOS', '0, 99', 'E 23% GEL PD MORANG 4X100G', 'BEBIDAS', 'D 13% AGUA PINGO DOCE 6LT', '0, 75', 'Resumo', '22, 92', 'TOTAL', 'TOTAL POUPANGA', '(1, 01)', 'TOTAL A PAGAR', '21,601', 'Pagamentos', 'TOTAL PAGO', '21,51', 'Mul ti banco', 'D...', 'wel oe', 'TVA', '21,51']\n"
     ]
    }
   ],
   "source": [
    "print(contents)"
   ]
  },
  {
   "cell_type": "code",
   "execution_count": 21,
   "metadata": {},
   "outputs": [],
   "source": [
    "sections = ['CONGE', 'MERCEARIA', 'LACTEOS', 'BEBIDAS', 'TOTAL', 'LEI TE']"
   ]
  },
  {
   "cell_type": "code",
   "execution_count": 22,
   "metadata": {},
   "outputs": [
    {
     "name": "stdout",
     "output_type": "stream",
     "text": [
      "True\n"
     ]
    }
   ],
   "source": [
    "print(any(ele in 'MERCEARIA + PET FOOD' for ele in sections))"
   ]
  },
  {
   "cell_type": "code",
   "execution_count": 23,
   "metadata": {},
   "outputs": [],
   "source": [
    "lists = [] # lista por selecao\n",
    "lists_name = []\n",
    "for i in range(len(contents)):\n",
    "    #print(i, contents[i])\n",
    "    if any(ele in contents[i] for ele in sections): # se a iteraçao tiver alguma das palavras presentes anteriormente entao \n",
    "        lists_name.append(contents[i])\n",
    "        aux_list = []\n",
    "        for k in range(i+1,len(contents)):          \n",
    "            if any(ele in contents[k] for ele in sections): \n",
    "                \n",
    "                break            \n",
    "            aux_list.append(contents[k])\n",
    "\n",
    "        lists.append(aux_list)    "
   ]
  },
  {
   "cell_type": "code",
   "execution_count": 24,
   "metadata": {},
   "outputs": [
    {
     "data": {
      "text/plain": [
       "['MERCEARIA + PET FOOD',\n",
       " 'CONGE LADOS',\n",
       " 'LEI TE',\n",
       " 'PRODUTOS LACTEOS',\n",
       " 'BEBIDAS',\n",
       " 'TOTAL',\n",
       " 'TOTAL POUPANGA',\n",
       " 'TOTAL A PAGAR',\n",
       " 'TOTAL PAGO']"
      ]
     },
     "execution_count": 24,
     "metadata": {},
     "output_type": "execute_result"
    }
   ],
   "source": [
    "lists_name"
   ]
  },
  {
   "cell_type": "code",
   "execution_count": 25,
   "metadata": {},
   "outputs": [
    {
     "data": {
      "text/plain": [
       "['E 23% RISSOL PD CARNE8X42G',\n",
       " '2, 09',\n",
       " 'C 6% ALM TOMA S/GL PD420G',\n",
       " '3, 19',\n",
       " 'E 23% ARROZ PATO PD 300G',\n",
       " '2, 99']"
      ]
     },
     "execution_count": 25,
     "metadata": {},
     "output_type": "execute_result"
    }
   ],
   "source": [
    "lists[1]"
   ]
  },
  {
   "cell_type": "code",
   "execution_count": 26,
   "metadata": {},
   "outputs": [
    {
     "name": "stdout",
     "output_type": "stream",
     "text": [
      "['E 23% CER REC CHOC PD 500G', '1, 99', 'Poupanea Imediata', '(0, 20)', 'C Bh', 'AZ.N. PLANIC. VE 0, 75L', '2,99', 'Poupanca |mediata', '(0, 10)', 'E 23%', 'BS MFRUTOS PD 906', '0, 69', 'E23', 'BOL PET MILK PD 150', '1, 09', 'E 23%', 'PASTA POT BOLON. 68GR', '1, 79', 'Poupanca Imediata', '(0, 45)', 'Cc: 6%', 'M. KOKA INST. CAMAR85G', '0, 79']\n",
      "['E 23% RISSOL PD CARNE8X42G', '2, 09', 'C 6% ALM TOMA S/GL PD420G', '3, 19', 'E 23% ARROZ PATO PD 300G', '2, 99']\n",
      "['C 6% L MIMOSA OZLAC MAGIL', '1, 29', 'C64', 'L UHT MG AGROS 1 LT', '2 X 0,69', '1, 38', 'Poupanea linediata', '(0, 26)']\n",
      "['0, 99', 'E 23% GEL PD MORANG 4X100G']\n"
     ]
    }
   ],
   "source": [
    "product = []\n",
    "price = []\n",
    "for k in range(0,4):   \n",
    "    print(lists[k])\n",
    "    flag = 0\n",
    "    for i in range (len(lists[k])):\n",
    "        if lists[k][i][0].isdigit(): \n",
    "            if flag == 1: \n",
    "                flag = 0\n",
    "                continue\n",
    "\n",
    "            elif 'X' in lists[k][i]:                \n",
    "                new_price = lists[k][i].split(' ')\n",
    "                price.append(new_price[2])\n",
    "                flag = 1 \n",
    "\n",
    "            else: price.append(lists[k][i])\n",
    "\n",
    "        \n",
    "        elif len(lists[k][i]) > 6: \n",
    "            if 'Poup' in lists[k][i]: \n",
    "                continue\n",
    "            elif lists[k][i][0] == '(':\n",
    "                continue\n",
    "\n",
    "            else: product.append(lists[k][i])\n",
    "\n",
    "        \n"
   ]
  },
  {
   "cell_type": "code",
   "execution_count": 27,
   "metadata": {},
   "outputs": [
    {
     "data": {
      "text/plain": [
       "12"
      ]
     },
     "execution_count": 27,
     "metadata": {},
     "output_type": "execute_result"
    }
   ],
   "source": [
    "len(product)"
   ]
  },
  {
   "cell_type": "code",
   "execution_count": 28,
   "metadata": {},
   "outputs": [
    {
     "data": {
      "text/plain": [
       "['1, 99',\n",
       " '2,99',\n",
       " '0, 69',\n",
       " '1, 09',\n",
       " '1, 79',\n",
       " '0, 79',\n",
       " '2, 09',\n",
       " '3, 19',\n",
       " '2, 99',\n",
       " '1, 29',\n",
       " '0,69',\n",
       " '0, 99']"
      ]
     },
     "execution_count": 28,
     "metadata": {},
     "output_type": "execute_result"
    }
   ],
   "source": [
    "price"
   ]
  },
  {
   "cell_type": "code",
   "execution_count": 29,
   "metadata": {},
   "outputs": [
    {
     "data": {
      "text/plain": [
       "12"
      ]
     },
     "execution_count": 29,
     "metadata": {},
     "output_type": "execute_result"
    }
   ],
   "source": [
    "len(price)"
   ]
  },
  {
   "cell_type": "code",
   "execution_count": 30,
   "metadata": {},
   "outputs": [
    {
     "data": {
      "text/html": [
       "<div>\n",
       "<style scoped>\n",
       "    .dataframe tbody tr th:only-of-type {\n",
       "        vertical-align: middle;\n",
       "    }\n",
       "\n",
       "    .dataframe tbody tr th {\n",
       "        vertical-align: top;\n",
       "    }\n",
       "\n",
       "    .dataframe thead th {\n",
       "        text-align: right;\n",
       "    }\n",
       "</style>\n",
       "<table border=\"1\" class=\"dataframe\">\n",
       "  <thead>\n",
       "    <tr style=\"text-align: right;\">\n",
       "      <th></th>\n",
       "      <th>product</th>\n",
       "      <th>price</th>\n",
       "    </tr>\n",
       "  </thead>\n",
       "  <tbody>\n",
       "    <tr>\n",
       "      <th>0</th>\n",
       "      <td>E 23% CER REC CHOC PD 500G</td>\n",
       "      <td>1, 99</td>\n",
       "    </tr>\n",
       "    <tr>\n",
       "      <th>1</th>\n",
       "      <td>AZ.N. PLANIC. VE 0, 75L</td>\n",
       "      <td>2,99</td>\n",
       "    </tr>\n",
       "    <tr>\n",
       "      <th>2</th>\n",
       "      <td>BS MFRUTOS PD 906</td>\n",
       "      <td>0, 69</td>\n",
       "    </tr>\n",
       "    <tr>\n",
       "      <th>3</th>\n",
       "      <td>BOL PET MILK PD 150</td>\n",
       "      <td>1, 09</td>\n",
       "    </tr>\n",
       "    <tr>\n",
       "      <th>4</th>\n",
       "      <td>PASTA POT BOLON. 68GR</td>\n",
       "      <td>1, 79</td>\n",
       "    </tr>\n",
       "    <tr>\n",
       "      <th>5</th>\n",
       "      <td>M. KOKA INST. CAMAR85G</td>\n",
       "      <td>0, 79</td>\n",
       "    </tr>\n",
       "    <tr>\n",
       "      <th>6</th>\n",
       "      <td>E 23% RISSOL PD CARNE8X42G</td>\n",
       "      <td>2, 09</td>\n",
       "    </tr>\n",
       "    <tr>\n",
       "      <th>7</th>\n",
       "      <td>C 6% ALM TOMA S/GL PD420G</td>\n",
       "      <td>3, 19</td>\n",
       "    </tr>\n",
       "    <tr>\n",
       "      <th>8</th>\n",
       "      <td>E 23% ARROZ PATO PD 300G</td>\n",
       "      <td>2, 99</td>\n",
       "    </tr>\n",
       "    <tr>\n",
       "      <th>9</th>\n",
       "      <td>C 6% L MIMOSA OZLAC MAGIL</td>\n",
       "      <td>1, 29</td>\n",
       "    </tr>\n",
       "    <tr>\n",
       "      <th>10</th>\n",
       "      <td>L UHT MG AGROS 1 LT</td>\n",
       "      <td>0,69</td>\n",
       "    </tr>\n",
       "    <tr>\n",
       "      <th>11</th>\n",
       "      <td>E 23% GEL PD MORANG 4X100G</td>\n",
       "      <td>0, 99</td>\n",
       "    </tr>\n",
       "  </tbody>\n",
       "</table>\n",
       "</div>"
      ],
      "text/plain": [
       "                       product  price\n",
       "0   E 23% CER REC CHOC PD 500G  1, 99\n",
       "1      AZ.N. PLANIC. VE 0, 75L   2,99\n",
       "2            BS MFRUTOS PD 906  0, 69\n",
       "3          BOL PET MILK PD 150  1, 09\n",
       "4        PASTA POT BOLON. 68GR  1, 79\n",
       "5       M. KOKA INST. CAMAR85G  0, 79\n",
       "6   E 23% RISSOL PD CARNE8X42G  2, 09\n",
       "7    C 6% ALM TOMA S/GL PD420G  3, 19\n",
       "8     E 23% ARROZ PATO PD 300G  2, 99\n",
       "9    C 6% L MIMOSA OZLAC MAGIL  1, 29\n",
       "10         L UHT MG AGROS 1 LT   0,69\n",
       "11  E 23% GEL PD MORANG 4X100G  0, 99"
      ]
     },
     "execution_count": 30,
     "metadata": {},
     "output_type": "execute_result"
    }
   ],
   "source": [
    "d = {'product': product, 'price': price}\n",
    "df = pd.DataFrame(d)\n",
    "df"
   ]
  },
  {
   "cell_type": "code",
   "execution_count": null,
   "metadata": {},
   "outputs": [],
   "source": []
  }
 ],
 "metadata": {
  "interpreter": {
   "hash": "7c5bc60f1b709cc28d984b044e46a36e86d71fb0a6f2e3589923fa1d0135e80a"
  },
  "kernelspec": {
   "display_name": "Python 3.8.12 ('ML')",
   "language": "python",
   "name": "python3"
  },
  "language_info": {
   "codemirror_mode": {
    "name": "ipython",
    "version": 3
   },
   "file_extension": ".py",
   "mimetype": "text/x-python",
   "name": "python",
   "nbconvert_exporter": "python",
   "pygments_lexer": "ipython3",
   "version": "3.8.12"
  },
  "orig_nbformat": 4
 },
 "nbformat": 4,
 "nbformat_minor": 2
}
