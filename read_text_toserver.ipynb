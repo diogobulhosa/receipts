{
 "cells": [
  {
   "cell_type": "code",
   "execution_count": 109,
   "metadata": {},
   "outputs": [],
   "source": [
    "import pandas as pd"
   ]
  },
  {
   "cell_type": "code",
   "execution_count": 110,
   "metadata": {},
   "outputs": [],
   "source": [
    "with open('file.txt') as f:\n",
    "    contents = f.readlines()"
   ]
  },
  {
   "cell_type": "code",
   "execution_count": 111,
   "metadata": {},
   "outputs": [],
   "source": [
    "contents = [i.strip() for i in contents]\n",
    "contents[:] = [x for x in contents if x]"
   ]
  },
  {
   "cell_type": "code",
   "execution_count": 112,
   "metadata": {},
   "outputs": [
    {
     "name": "stdout",
     "output_type": "stream",
     "text": [
      "['Artigos', '————', 'MERCEARIA + PET FOOD', 'E 23% CER REC CHOC PD 500G', '1, 99', 'Poupanea Imediata', '(0, 20)', 'C Bh', 'AZ.N. PLANIC. VE 0, 75L', '2,99', 'Poupanca |mediata', '(0, 10)', 'E 23%', 'BS MFRUTOS PD 906', '0, 69', 'E23', 'BOL PET MILK PD 150', '1, 09', 'E 23%', 'PASTA POT BOLON. 68GR', '1, 79', 'Poupanca Imediata', '(0, 45)', 'Cc: 6%', 'M. KOKA INST. CAMAR85G', '0, 79', 'CONGE LADOS', 'E 23% RISSOL PD CARNE8X42G', '2, 09', 'C 6% ALM TOMA S/GL PD420G', '3, 19', 'E 23% ARROZ PATO PD 300G', '2, 99', 'LEI TE', 'C 6% L MIMOSA OZLAC MAGIL', '1, 29', 'C64', 'L UHT MG AGROS 1 LT', '2 X 0,69', '1, 38', 'Poupanea linediata', '(0, 26)', 'PRODUTOS LACTEOS', '0, 99', 'E 23% GEL PD MORANG 4X100G', 'BEBIDAS', 'D 13% AGUA PINGO DOCE 6LT', '0, 75', 'Resumo', '22, 92', 'TOTAL', 'TOTAL POUPANGA', '(1, 01)', 'TOTAL A PAGAR', '21,601', 'Pagamentos', 'TOTAL PAGO', '21,51', 'Mul ti banco', 'D...', 'wel oe', 'TVA', '21,51']\n"
     ]
    }
   ],
   "source": [
    "print(contents)"
   ]
  },
  {
   "cell_type": "code",
   "execution_count": 113,
   "metadata": {},
   "outputs": [],
   "source": [
    "sections = ['CONGE', 'MERCEARIA', 'LACTEOS', 'BEBIDAS', 'TOTAL', 'LEI TE']"
   ]
  },
  {
   "cell_type": "code",
   "execution_count": 114,
   "metadata": {},
   "outputs": [
    {
     "name": "stdout",
     "output_type": "stream",
     "text": [
      "True\n"
     ]
    }
   ],
   "source": [
    "print(any(ele in 'MERCEARIA + PET FOOD' for ele in sections))"
   ]
  },
  {
   "cell_type": "code",
   "execution_count": 115,
   "metadata": {},
   "outputs": [],
   "source": [
    "lists = [] # lista por selecao\n",
    "lists_name = []\n",
    "for i in range(len(contents)):\n",
    "    #print(i, contents[i])\n",
    "    if any(ele in contents[i] for ele in sections): # se a iteraçao tiver alguma das palavras presentes anteriormente entao \n",
    "        lists_name.append(contents[i])\n",
    "        aux_list = []\n",
    "        for k in range(i+1,len(contents)):          \n",
    "            if any(ele in contents[k] for ele in sections): \n",
    "                \n",
    "                break            \n",
    "            i = i+1\n",
    "            aux_list.append(contents[k])\n",
    "\n",
    "        lists.append(aux_list)    "
   ]
  },
  {
   "cell_type": "code",
   "execution_count": 116,
   "metadata": {},
   "outputs": [
    {
     "data": {
      "text/plain": [
       "['MERCEARIA + PET FOOD',\n",
       " 'CONGE LADOS',\n",
       " 'LEI TE',\n",
       " 'PRODUTOS LACTEOS',\n",
       " 'BEBIDAS',\n",
       " 'TOTAL',\n",
       " 'TOTAL POUPANGA',\n",
       " 'TOTAL A PAGAR',\n",
       " 'TOTAL PAGO']"
      ]
     },
     "execution_count": 116,
     "metadata": {},
     "output_type": "execute_result"
    }
   ],
   "source": [
    "lists_name"
   ]
  },
  {
   "cell_type": "code",
   "execution_count": 117,
   "metadata": {},
   "outputs": [
    {
     "data": {
      "text/plain": [
       "['C 6% L MIMOSA OZLAC MAGIL',\n",
       " '1, 29',\n",
       " 'C64',\n",
       " 'L UHT MG AGROS 1 LT',\n",
       " '2 X 0,69',\n",
       " '1, 38',\n",
       " 'Poupanea linediata',\n",
       " '(0, 26)']"
      ]
     },
     "execution_count": 117,
     "metadata": {},
     "output_type": "execute_result"
    }
   ],
   "source": [
    "lists[2]"
   ]
  },
  {
   "cell_type": "code",
   "execution_count": 143,
   "metadata": {},
   "outputs": [
    {
     "name": "stdout",
     "output_type": "stream",
     "text": [
      "['E 23% CER REC CHOC PD 500G', '1, 99', 'Poupanea Imediata', '(0, 20)', 'C Bh', 'AZ.N. PLANIC. VE 0, 75L', '2,99', 'Poupanca |mediata', '(0, 10)', 'E 23%', 'BS MFRUTOS PD 906', '0, 69', 'E23', 'BOL PET MILK PD 150', '1, 09', 'E 23%', 'PASTA POT BOLON. 68GR', '1, 79', 'Poupanca Imediata', '(0, 45)', 'Cc: 6%', 'M. KOKA INST. CAMAR85G', '0, 79']\n",
      "Aquiii0\n",
      "Aquiii1\n",
      "Aquiii2\n",
      "Aquiii3\n",
      "Aquiii4\n",
      "Aquiii5\n",
      "Aquiii6\n",
      "Aquiii7\n",
      "Aquiii8\n",
      "Aquiii9\n",
      "Aquiii10\n",
      "Aquiii11\n",
      "Aquiii12\n",
      "Aquiii13\n",
      "Aquiii14\n",
      "Aquiii15\n",
      "Aquiii16\n",
      "Aquiii17\n",
      "Aquiii18\n",
      "Aquiii19\n",
      "Aquiii20\n",
      "Aquiii21\n",
      "Aquiii22\n",
      "['E 23% RISSOL PD CARNE8X42G', '2, 09', 'C 6% ALM TOMA S/GL PD420G', '3, 19', 'E 23% ARROZ PATO PD 300G', '2, 99']\n",
      "Aquiii0\n",
      "Aquiii1\n",
      "Aquiii2\n",
      "Aquiii3\n",
      "Aquiii4\n",
      "Aquiii5\n",
      "['C 6% L MIMOSA OZLAC MAGIL', '1, 29', 'C64', 'L UHT MG AGROS 1 LT', '2 X 0,69', '1, 38', 'Poupanea linediata', '(0, 26)']\n",
      "Aquiii0\n",
      "Aquiii1\n",
      "Aquiii2\n",
      "Aquiii3\n",
      "Aquiii4\n",
      "Oiiii    4\n",
      "byeeee   6\n",
      "Aquiii5\n",
      "Aquiii6\n",
      "Aquiii7\n",
      "['0, 99', 'E 23% GEL PD MORANG 4X100G']\n",
      "Aquiii0\n",
      "Aquiii1\n"
     ]
    }
   ],
   "source": [
    "product = []\n",
    "price = []\n",
    "for k in range(0,4):   \n",
    "    print(lists[k])\n",
    "    for i in range (len(lists[k])):\n",
    "        print(\"start--   \" +str(i))\n",
    "        if lists[k][i][0].isdigit(): \n",
    "            if 'X' in lists[k][i]: \n",
    "                print(\"mid1--    \"+str(i))\n",
    "                new_price = lists[k][i].split(' ')\n",
    "                price.append(new_price[2])\n",
    "                i = i+2\n",
    "                print(\"mid2--   \"+str(i))\n",
    "            else: price.append(lists[k][i])\n",
    "\n",
    "        \n",
    "        elif len(lists[k][i]) > 6: \n",
    "            if 'Poup' in lists[k][i]: \n",
    "                continue\n",
    "            elif lists[k][i][0] == '(':\n",
    "                continue\n",
    "\n",
    "            else: product.append(lists[k][i])\n",
    "        \n",
    "        print(\"end--   \"+str(i))\n",
    "\n",
    "        \n"
   ]
  },
  {
   "cell_type": "code",
   "execution_count": 136,
   "metadata": {},
   "outputs": [
    {
     "data": {
      "text/plain": [
       "12"
      ]
     },
     "execution_count": 136,
     "metadata": {},
     "output_type": "execute_result"
    }
   ],
   "source": [
    "len(product)"
   ]
  },
  {
   "cell_type": "code",
   "execution_count": 139,
   "metadata": {},
   "outputs": [
    {
     "data": {
      "text/plain": [
       "['1, 99',\n",
       " '2,99',\n",
       " '0, 69',\n",
       " '1, 09',\n",
       " '1, 79',\n",
       " '0, 79',\n",
       " '2, 09',\n",
       " '3, 19',\n",
       " '2, 99',\n",
       " '1, 29',\n",
       " '0,69',\n",
       " '1, 38',\n",
       " '0, 99']"
      ]
     },
     "execution_count": 139,
     "metadata": {},
     "output_type": "execute_result"
    }
   ],
   "source": [
    "price"
   ]
  },
  {
   "cell_type": "code",
   "execution_count": 137,
   "metadata": {},
   "outputs": [
    {
     "data": {
      "text/plain": [
       "13"
      ]
     },
     "execution_count": 137,
     "metadata": {},
     "output_type": "execute_result"
    }
   ],
   "source": [
    "len(price)"
   ]
  },
  {
   "cell_type": "code",
   "execution_count": 138,
   "metadata": {},
   "outputs": [
    {
     "ename": "ValueError",
     "evalue": "All arrays must be of the same length",
     "output_type": "error",
     "traceback": [
      "\u001b[1;31m---------------------------------------------------------------------------\u001b[0m",
      "\u001b[1;31mValueError\u001b[0m                                Traceback (most recent call last)",
      "\u001b[1;32m~\\AppData\\Local\\Temp/ipykernel_16524/865518358.py\u001b[0m in \u001b[0;36m<module>\u001b[1;34m\u001b[0m\n\u001b[0;32m      1\u001b[0m \u001b[0md\u001b[0m \u001b[1;33m=\u001b[0m \u001b[1;33m{\u001b[0m\u001b[1;34m'product'\u001b[0m\u001b[1;33m:\u001b[0m \u001b[0mproduct\u001b[0m\u001b[1;33m,\u001b[0m \u001b[1;34m'price'\u001b[0m\u001b[1;33m:\u001b[0m \u001b[0mprice\u001b[0m\u001b[1;33m}\u001b[0m\u001b[1;33m\u001b[0m\u001b[1;33m\u001b[0m\u001b[0m\n\u001b[1;32m----> 2\u001b[1;33m \u001b[0mdf\u001b[0m \u001b[1;33m=\u001b[0m \u001b[0mpd\u001b[0m\u001b[1;33m.\u001b[0m\u001b[0mDataFrame\u001b[0m\u001b[1;33m(\u001b[0m\u001b[0md\u001b[0m\u001b[1;33m)\u001b[0m\u001b[1;33m\u001b[0m\u001b[1;33m\u001b[0m\u001b[0m\n\u001b[0m\u001b[0;32m      3\u001b[0m \u001b[0mdf\u001b[0m\u001b[1;33m\u001b[0m\u001b[1;33m\u001b[0m\u001b[0m\n",
      "\u001b[1;32m~\\anaconda3\\envs\\ML\\lib\\site-packages\\pandas\\core\\frame.py\u001b[0m in \u001b[0;36m__init__\u001b[1;34m(self, data, index, columns, dtype, copy)\u001b[0m\n\u001b[0;32m    612\u001b[0m         \u001b[1;32melif\u001b[0m \u001b[0misinstance\u001b[0m\u001b[1;33m(\u001b[0m\u001b[0mdata\u001b[0m\u001b[1;33m,\u001b[0m \u001b[0mdict\u001b[0m\u001b[1;33m)\u001b[0m\u001b[1;33m:\u001b[0m\u001b[1;33m\u001b[0m\u001b[1;33m\u001b[0m\u001b[0m\n\u001b[0;32m    613\u001b[0m             \u001b[1;31m# GH#38939 de facto copy defaults to False only in non-dict cases\u001b[0m\u001b[1;33m\u001b[0m\u001b[1;33m\u001b[0m\u001b[1;33m\u001b[0m\u001b[0m\n\u001b[1;32m--> 614\u001b[1;33m             \u001b[0mmgr\u001b[0m \u001b[1;33m=\u001b[0m \u001b[0mdict_to_mgr\u001b[0m\u001b[1;33m(\u001b[0m\u001b[0mdata\u001b[0m\u001b[1;33m,\u001b[0m \u001b[0mindex\u001b[0m\u001b[1;33m,\u001b[0m \u001b[0mcolumns\u001b[0m\u001b[1;33m,\u001b[0m \u001b[0mdtype\u001b[0m\u001b[1;33m=\u001b[0m\u001b[0mdtype\u001b[0m\u001b[1;33m,\u001b[0m \u001b[0mcopy\u001b[0m\u001b[1;33m=\u001b[0m\u001b[0mcopy\u001b[0m\u001b[1;33m,\u001b[0m \u001b[0mtyp\u001b[0m\u001b[1;33m=\u001b[0m\u001b[0mmanager\u001b[0m\u001b[1;33m)\u001b[0m\u001b[1;33m\u001b[0m\u001b[1;33m\u001b[0m\u001b[0m\n\u001b[0m\u001b[0;32m    615\u001b[0m         \u001b[1;32melif\u001b[0m \u001b[0misinstance\u001b[0m\u001b[1;33m(\u001b[0m\u001b[0mdata\u001b[0m\u001b[1;33m,\u001b[0m \u001b[0mma\u001b[0m\u001b[1;33m.\u001b[0m\u001b[0mMaskedArray\u001b[0m\u001b[1;33m)\u001b[0m\u001b[1;33m:\u001b[0m\u001b[1;33m\u001b[0m\u001b[1;33m\u001b[0m\u001b[0m\n\u001b[0;32m    616\u001b[0m             \u001b[1;32mimport\u001b[0m \u001b[0mnumpy\u001b[0m\u001b[1;33m.\u001b[0m\u001b[0mma\u001b[0m\u001b[1;33m.\u001b[0m\u001b[0mmrecords\u001b[0m \u001b[1;32mas\u001b[0m \u001b[0mmrecords\u001b[0m\u001b[1;33m\u001b[0m\u001b[1;33m\u001b[0m\u001b[0m\n",
      "\u001b[1;32m~\\anaconda3\\envs\\ML\\lib\\site-packages\\pandas\\core\\internals\\construction.py\u001b[0m in \u001b[0;36mdict_to_mgr\u001b[1;34m(data, index, columns, dtype, typ, copy)\u001b[0m\n\u001b[0;32m    462\u001b[0m         \u001b[1;31m# TODO: can we get rid of the dt64tz special case above?\u001b[0m\u001b[1;33m\u001b[0m\u001b[1;33m\u001b[0m\u001b[1;33m\u001b[0m\u001b[0m\n\u001b[0;32m    463\u001b[0m \u001b[1;33m\u001b[0m\u001b[0m\n\u001b[1;32m--> 464\u001b[1;33m     return arrays_to_mgr(\n\u001b[0m\u001b[0;32m    465\u001b[0m         \u001b[0marrays\u001b[0m\u001b[1;33m,\u001b[0m \u001b[0mdata_names\u001b[0m\u001b[1;33m,\u001b[0m \u001b[0mindex\u001b[0m\u001b[1;33m,\u001b[0m \u001b[0mcolumns\u001b[0m\u001b[1;33m,\u001b[0m \u001b[0mdtype\u001b[0m\u001b[1;33m=\u001b[0m\u001b[0mdtype\u001b[0m\u001b[1;33m,\u001b[0m \u001b[0mtyp\u001b[0m\u001b[1;33m=\u001b[0m\u001b[0mtyp\u001b[0m\u001b[1;33m,\u001b[0m \u001b[0mconsolidate\u001b[0m\u001b[1;33m=\u001b[0m\u001b[0mcopy\u001b[0m\u001b[1;33m\u001b[0m\u001b[1;33m\u001b[0m\u001b[0m\n\u001b[0;32m    466\u001b[0m     )\n",
      "\u001b[1;32m~\\anaconda3\\envs\\ML\\lib\\site-packages\\pandas\\core\\internals\\construction.py\u001b[0m in \u001b[0;36marrays_to_mgr\u001b[1;34m(arrays, arr_names, index, columns, dtype, verify_integrity, typ, consolidate)\u001b[0m\n\u001b[0;32m    117\u001b[0m         \u001b[1;31m# figure out the index, if necessary\u001b[0m\u001b[1;33m\u001b[0m\u001b[1;33m\u001b[0m\u001b[1;33m\u001b[0m\u001b[0m\n\u001b[0;32m    118\u001b[0m         \u001b[1;32mif\u001b[0m \u001b[0mindex\u001b[0m \u001b[1;32mis\u001b[0m \u001b[1;32mNone\u001b[0m\u001b[1;33m:\u001b[0m\u001b[1;33m\u001b[0m\u001b[1;33m\u001b[0m\u001b[0m\n\u001b[1;32m--> 119\u001b[1;33m             \u001b[0mindex\u001b[0m \u001b[1;33m=\u001b[0m \u001b[0m_extract_index\u001b[0m\u001b[1;33m(\u001b[0m\u001b[0marrays\u001b[0m\u001b[1;33m)\u001b[0m\u001b[1;33m\u001b[0m\u001b[1;33m\u001b[0m\u001b[0m\n\u001b[0m\u001b[0;32m    120\u001b[0m         \u001b[1;32melse\u001b[0m\u001b[1;33m:\u001b[0m\u001b[1;33m\u001b[0m\u001b[1;33m\u001b[0m\u001b[0m\n\u001b[0;32m    121\u001b[0m             \u001b[0mindex\u001b[0m \u001b[1;33m=\u001b[0m \u001b[0mensure_index\u001b[0m\u001b[1;33m(\u001b[0m\u001b[0mindex\u001b[0m\u001b[1;33m)\u001b[0m\u001b[1;33m\u001b[0m\u001b[1;33m\u001b[0m\u001b[0m\n",
      "\u001b[1;32m~\\anaconda3\\envs\\ML\\lib\\site-packages\\pandas\\core\\internals\\construction.py\u001b[0m in \u001b[0;36m_extract_index\u001b[1;34m(data)\u001b[0m\n\u001b[0;32m    633\u001b[0m             \u001b[0mlengths\u001b[0m \u001b[1;33m=\u001b[0m \u001b[0mlist\u001b[0m\u001b[1;33m(\u001b[0m\u001b[0mset\u001b[0m\u001b[1;33m(\u001b[0m\u001b[0mraw_lengths\u001b[0m\u001b[1;33m)\u001b[0m\u001b[1;33m)\u001b[0m\u001b[1;33m\u001b[0m\u001b[1;33m\u001b[0m\u001b[0m\n\u001b[0;32m    634\u001b[0m             \u001b[1;32mif\u001b[0m \u001b[0mlen\u001b[0m\u001b[1;33m(\u001b[0m\u001b[0mlengths\u001b[0m\u001b[1;33m)\u001b[0m \u001b[1;33m>\u001b[0m \u001b[1;36m1\u001b[0m\u001b[1;33m:\u001b[0m\u001b[1;33m\u001b[0m\u001b[1;33m\u001b[0m\u001b[0m\n\u001b[1;32m--> 635\u001b[1;33m                 \u001b[1;32mraise\u001b[0m \u001b[0mValueError\u001b[0m\u001b[1;33m(\u001b[0m\u001b[1;34m\"All arrays must be of the same length\"\u001b[0m\u001b[1;33m)\u001b[0m\u001b[1;33m\u001b[0m\u001b[1;33m\u001b[0m\u001b[0m\n\u001b[0m\u001b[0;32m    636\u001b[0m \u001b[1;33m\u001b[0m\u001b[0m\n\u001b[0;32m    637\u001b[0m             \u001b[1;32mif\u001b[0m \u001b[0mhave_dicts\u001b[0m\u001b[1;33m:\u001b[0m\u001b[1;33m\u001b[0m\u001b[1;33m\u001b[0m\u001b[0m\n",
      "\u001b[1;31mValueError\u001b[0m: All arrays must be of the same length"
     ]
    }
   ],
   "source": [
    "d = {'product': product, 'price': price}\n",
    "df = pd.DataFrame(d)\n",
    "df"
   ]
  },
  {
   "cell_type": "code",
   "execution_count": null,
   "metadata": {},
   "outputs": [],
   "source": [
    "np.savetxt(r'c:\\data\\np.txt', df.values, fmt='%d')"
   ]
  }
 ],
 "metadata": {
  "interpreter": {
   "hash": "7c5bc60f1b709cc28d984b044e46a36e86d71fb0a6f2e3589923fa1d0135e80a"
  },
  "kernelspec": {
   "display_name": "Python 3.8.12 ('ML')",
   "language": "python",
   "name": "python3"
  },
  "language_info": {
   "codemirror_mode": {
    "name": "ipython",
    "version": 3
   },
   "file_extension": ".py",
   "mimetype": "text/x-python",
   "name": "python",
   "nbconvert_exporter": "python",
   "pygments_lexer": "ipython3",
   "version": "3.8.12"
  },
  "orig_nbformat": 4
 },
 "nbformat": 4,
 "nbformat_minor": 2
}
